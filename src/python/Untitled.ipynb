{
 "cells": [
  {
   "cell_type": "code",
   "execution_count": 2,
   "id": "a5118d16",
   "metadata": {},
   "outputs": [
    {
     "ename": "NameError",
     "evalue": "name 'utils' is not defined",
     "output_type": "error",
     "traceback": [
      "\u001b[1;31m---------------------------------------------------------------------------\u001b[0m",
      "\u001b[1;31mNameError\u001b[0m                                 Traceback (most recent call last)",
      "Input \u001b[1;32mIn [2]\u001b[0m, in \u001b[0;36m<cell line: 1>\u001b[1;34m()\u001b[0m\n\u001b[1;32m----> 1\u001b[0m \u001b[38;5;28;01mfrom\u001b[39;00m \u001b[38;5;21;01mclyngor\u001b[39;00m \u001b[38;5;28;01mimport\u001b[39;00m ASP, solve\n\u001b[0;32m      3\u001b[0m answers \u001b[38;5;241m=\u001b[39m ASP(\u001b[38;5;124m\"\"\"\u001b[39m\n\u001b[0;32m      4\u001b[0m \u001b[38;5;124mrel(a,(c;d)). rel(b,(d;e)).\u001b[39m\n\u001b[0;32m      5\u001b[0m \u001b[38;5;124mobj(X):- rel(X,_) ; rel(X,Y): att(Y).\u001b[39m\n\u001b[1;32m   (...)\u001b[0m\n\u001b[0;32m      8\u001b[0m \u001b[38;5;124m:- not att(Y):att(Y).\u001b[39m\n\u001b[0;32m      9\u001b[0m \u001b[38;5;124m\"\"\"\u001b[39m)\n\u001b[0;32m     10\u001b[0m \u001b[38;5;28;01mfor\u001b[39;00m answer \u001b[38;5;129;01min\u001b[39;00m answers:\n",
      "File \u001b[1;32m~\\AppData\\Local\\Programs\\Python\\Python310\\lib\\site-packages\\clyngor\\__init__.py:70\u001b[0m, in \u001b[0;36m<module>\u001b[1;34m\u001b[0m\n\u001b[0;32m     66\u001b[0m     \u001b[38;5;28;01massert\u001b[39;00m get_clingo_binary() \u001b[38;5;241m==\u001b[39m CLINGO_BIN_PATH\n\u001b[0;32m     69\u001b[0m \u001b[38;5;66;03m# last, clyngor depending modules\u001b[39;00m\n\u001b[1;32m---> 70\u001b[0m \u001b[38;5;28;01mfrom\u001b[39;00m \u001b[38;5;21;01mclyngor\u001b[39;00m\u001b[38;5;21;01m.\u001b[39;00m\u001b[38;5;21;01mupapi\u001b[39;00m \u001b[38;5;28;01mimport\u001b[39;00m converted_types, converted_types_or_symbols\n",
      "File \u001b[1;32m~\\AppData\\Local\\Programs\\Python\\Python310\\lib\\site-packages\\clyngor\\upapi.py:93\u001b[0m, in \u001b[0;36m<module>\u001b[1;34m\u001b[0m\n\u001b[0;32m     90\u001b[0m         \u001b[38;5;28;01mreturn\u001b[39;00m decorated\n\u001b[0;32m     91\u001b[0m     \u001b[38;5;28;01mreturn\u001b[39;00m decorator\n\u001b[1;32m---> 93\u001b[0m converted_types \u001b[38;5;241m=\u001b[39m \u001b[43m_converted_types\u001b[49m\u001b[43m(\u001b[49m\u001b[38;5;28;43;01mTrue\u001b[39;49;00m\u001b[43m)\u001b[49m\n\u001b[0;32m     94\u001b[0m converted_types_or_symbols \u001b[38;5;241m=\u001b[39m _converted_types(\u001b[38;5;28;01mFalse\u001b[39;00m)\n",
      "File \u001b[1;32m~\\AppData\\Local\\Programs\\Python\\Python310\\lib\\site-packages\\clyngor\\upapi.py:23\u001b[0m, in \u001b[0;36m_converted_types\u001b[1;34m(ignore_bad_type)\u001b[0m\n\u001b[0;32m     12\u001b[0m \u001b[38;5;28;01mdef\u001b[39;00m \u001b[38;5;21m_converted_types\u001b[39m(ignore_bad_type:\u001b[38;5;28mbool\u001b[39m\u001b[38;5;241m=\u001b[39m\u001b[38;5;28;01mTrue\u001b[39;00m):\n\u001b[0;32m     13\u001b[0m     \u001b[38;5;124;03m\"\"\"Decorator for functions accessed by ASP, using type annotations to\u001b[39;00m\n\u001b[0;32m     14\u001b[0m \u001b[38;5;124;03m    convert input types in their expected type.\u001b[39;00m\n\u001b[0;32m     15\u001b[0m \n\u001b[1;32m   (...)\u001b[0m\n\u001b[0;32m     21\u001b[0m \n\u001b[0;32m     22\u001b[0m \u001b[38;5;124;03m    \"\"\"\u001b[39;00m\n\u001b[1;32m---> 23\u001b[0m     \u001b[38;5;28;01mif\u001b[39;00m \u001b[38;5;129;01mnot\u001b[39;00m \u001b[43mclyngor\u001b[49m\u001b[38;5;241;43m.\u001b[39;49m\u001b[43mhave_python_support\u001b[49m\u001b[43m(\u001b[49m\u001b[43m)\u001b[49m \u001b[38;5;129;01mor\u001b[39;00m \u001b[38;5;129;01mnot\u001b[39;00m clyngor\u001b[38;5;241m.\u001b[39mclingo_module_available:\n\u001b[0;32m     24\u001b[0m         \u001b[38;5;28;01mreturn\u001b[39;00m clyngor\u001b[38;5;241m.\u001b[39mutils\u001b[38;5;241m.\u001b[39mnull_decorator\n\u001b[0;32m     25\u001b[0m     \u001b[38;5;28;01mfrom\u001b[39;00m \u001b[38;5;21;01mclingo\u001b[39;00m \u001b[38;5;28;01mimport\u001b[39;00m symbol\n",
      "File \u001b[1;32m~\\AppData\\Local\\Programs\\Python\\Python310\\lib\\site-packages\\clyngor\\__init__.py:53\u001b[0m, in \u001b[0;36mhave_python_support\u001b[1;34m(py3)\u001b[0m\n\u001b[0;32m     50\u001b[0m \u001b[38;5;28;01mdef\u001b[39;00m \u001b[38;5;21mhave_python_support\u001b[39m(py3:\u001b[38;5;28mbool\u001b[39m\u001b[38;5;241m=\u001b[39m\u001b[38;5;28;01mTrue\u001b[39;00m) \u001b[38;5;241m-\u001b[39m\u001b[38;5;241m>\u001b[39m \u001b[38;5;28mbool\u001b[39m \u001b[38;5;129;01mor\u001b[39;00m \u001b[38;5;28;01mNone\u001b[39;00m:\n\u001b[0;32m     51\u001b[0m     \u001b[38;5;124;03m\"\"\"True if clingo supports python 3 (or 2 if py3 is falsy).\u001b[39;00m\n\u001b[0;32m     52\u001b[0m \u001b[38;5;124;03m    None if no python support at all.\"\"\"\u001b[39;00m\n\u001b[1;32m---> 53\u001b[0m     \u001b[38;5;28;01mreturn\u001b[39;00m \u001b[43mutils\u001b[49m\u001b[38;5;241m.\u001b[39mtry_python_availability_in_clingo(py3)\n",
      "\u001b[1;31mNameError\u001b[0m: name 'utils' is not defined"
     ]
    }
   ],
   "source": [
    "from clyngor import ASP, solve\n",
    "\n",
    "answers = ASP(\"\"\"\n",
    "rel(a,(c;d)). rel(b,(d;e)).\n",
    "obj(X):- rel(X,_) ; rel(X,Y): att(Y).\n",
    "att(Y):- rel(_,Y) ; rel(X,Y): obj(X).\n",
    ":- not obj(X):obj(X).\n",
    ":- not att(Y):att(Y).\n",
    "\"\"\")\n",
    "for answer in answers:\n",
    "    print(answer)"
   ]
  },
  {
   "cell_type": "code",
   "execution_count": null,
   "id": "a3c22db9",
   "metadata": {},
   "outputs": [],
   "source": []
  }
 ],
 "metadata": {
  "kernelspec": {
   "display_name": "Python 3 (ipykernel)",
   "language": "python",
   "name": "python3"
  },
  "language_info": {
   "codemirror_mode": {
    "name": "ipython",
    "version": 3
   },
   "file_extension": ".py",
   "mimetype": "text/x-python",
   "name": "python",
   "nbconvert_exporter": "python",
   "pygments_lexer": "ipython3",
   "version": "3.10.5"
  }
 },
 "nbformat": 4,
 "nbformat_minor": 5
}
